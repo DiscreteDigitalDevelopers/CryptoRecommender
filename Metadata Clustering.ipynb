{
 "cells": [
  {
   "cell_type": "markdown",
   "metadata": {},
   "source": [
    "# Metadata clustering"
   ]
  },
  {
   "cell_type": "code",
   "execution_count": 25,
   "metadata": {},
   "outputs": [],
   "source": [
    "import json\n",
    "import numpy as np"
   ]
  },
  {
   "cell_type": "markdown",
   "metadata": {},
   "source": [
    "load metadata form JSON"
   ]
  },
  {
   "cell_type": "code",
   "execution_count": 26,
   "metadata": {},
   "outputs": [],
   "source": [
    "meta = None\n",
    "with open('./scraped/metadata.json') as f:\n",
    "    meta = json.load(f)"
   ]
  },
  {
   "cell_type": "code",
   "execution_count": 27,
   "metadata": {},
   "outputs": [
    {
     "data": {
      "text/plain": [
       "{'name': 'Bitcoin',\n",
       " 'symbol': 'BTC',\n",
       " 'market_cap': 853156332063.032,\n",
       " 'fully_diluted_market_cap': 853156332063.032,\n",
       " 'circulating_supply': 18995500,\n",
       " 'total_supply': 18995500,\n",
       " 'max_supply': 21000000}"
      ]
     },
     "execution_count": 27,
     "metadata": {},
     "output_type": "execute_result"
    }
   ],
   "source": [
    "meta[0]"
   ]
  },
  {
   "cell_type": "code",
   "execution_count": 28,
   "metadata": {},
   "outputs": [],
   "source": [
    "index2name = []\n",
    "for m in meta:\n",
    "    index2name.append(m.get('name'))"
   ]
  },
  {
   "cell_type": "code",
   "execution_count": 29,
   "metadata": {},
   "outputs": [
    {
     "data": {
      "text/plain": [
       "['Bitcoin', 'Ethereum', 'BNB', 'XRP', 'Cardano']"
      ]
     },
     "execution_count": 29,
     "metadata": {},
     "output_type": "execute_result"
    }
   ],
   "source": [
    "index2name[:5]"
   ]
  },
  {
   "cell_type": "markdown",
   "metadata": {},
   "source": [
    "Feature vectors"
   ]
  },
  {
   "cell_type": "code",
   "execution_count": 30,
   "metadata": {},
   "outputs": [],
   "source": [
    "embed = []\n",
    "for m in meta:\n",
    "    feats = np.array([m.get('market_cap'), m.get('fully_diluted_market_cap'), m.get('circulating_supply'), m.get('total_supply')])\n",
    "    embed.append(feats)\n",
    "embed = np.array(embed)"
   ]
  },
  {
   "cell_type": "code",
   "execution_count": 31,
   "metadata": {},
   "outputs": [
    {
     "data": {
      "text/plain": [
       "array([[8.53156332e+11, 8.53156332e+11, 1.89955000e+07, 1.89955000e+07],\n",
       "       [3.82421302e+11, 3.82421302e+11, 1.20135312e+08, 1.20135312e+08],\n",
       "       [6.90548205e+10, 6.90548205e+10, 1.65116761e+08, 1.65116761e+08],\n",
       "       ...,\n",
       "       [6.32231262e+07, 6.32231262e+07, 5.95248695e+08, 6.55932996e+08],\n",
       "       [6.30349240e+07, 6.30349240e+07, 3.38541660e+07, 2.50000000e+08],\n",
       "       [6.25803319e+07, 6.25803319e+07, 4.40859613e+16, 4.67758553e+16]])"
      ]
     },
     "execution_count": 31,
     "metadata": {},
     "output_type": "execute_result"
    }
   ],
   "source": [
    "embed"
   ]
  },
  {
   "cell_type": "markdown",
   "metadata": {},
   "source": [
    "TSNE plot"
   ]
  },
  {
   "cell_type": "code",
   "execution_count": 44,
   "metadata": {},
   "outputs": [],
   "source": [
    "from sklearn.manifold import TSNE\n",
    "import seaborn as sns\n",
    "from matplotlib import pyplot as plt\n",
    "from sklearn.cluster import KMeans"
   ]
  },
  {
   "cell_type": "code",
   "execution_count": 45,
   "metadata": {},
   "outputs": [
    {
     "name": "stderr",
     "output_type": "stream",
     "text": [
      "c:\\users\\wangy80\\appdata\\local\\programs\\python\\python38-32\\lib\\site-packages\\sklearn\\manifold\\_t_sne.py:780: FutureWarning: The default initialization in TSNE will change from 'random' to 'pca' in 1.2.\n",
      "  warnings.warn(\n"
     ]
    }
   ],
   "source": [
    "tsne = TSNE(n_components=2, learning_rate='auto').fit_transform(embed)"
   ]
  },
  {
   "cell_type": "code",
   "execution_count": 46,
   "metadata": {},
   "outputs": [
    {
     "data": {
      "text/plain": [
       "<matplotlib.collections.PathCollection at 0x28078520>"
      ]
     },
     "execution_count": 46,
     "metadata": {},
     "output_type": "execute_result"
    },
    {
     "data": {
      "image/png": "[encoded data removed]",
      "text/plain": [
       "<Figure size 576x360 with 1 Axes>"
      ]
     },
     "metadata": {
      "needs_background": "light"
     },
     "output_type": "display_data"
    }
   ],
   "source": [
    "df_subset = {}\n",
    "df_subset['x'] = tsne[:,0]\n",
    "df_subset['y'] = tsne[:,1]\n",
    "plt.figure(figsize=(8,5))\n",
    "plt.scatter(df_subset['x'], df_subset['y'])"
   ]
  },
  {
   "cell_type": "code",
   "execution_count": 47,
   "metadata": {},
   "outputs": [
    {
     "data": {
      "text/plain": [
       "(500, 2)"
      ]
     },
     "execution_count": 47,
     "metadata": {},
     "output_type": "execute_result"
    }
   ],
   "source": [
    "tsne.shape"
   ]
  },
  {
   "cell_type": "code",
   "execution_count": 53,
   "metadata": {},
   "outputs": [
    {
     "data": {
      "text/plain": [
       "array([3, 3, 3, 2, 2, 3, 3, 3, 3, 2, 2, 2, 2, 2, 3, 2, 2, 3, 3, 3, 3, 3,\n",
       "       3, 2, 3, 2, 3, 3, 2, 3, 2, 3, 2, 3, 3, 3, 3, 3, 3, 3, 3, 3, 3, 3,\n",
       "       3, 1, 3, 3, 3, 3, 3, 3, 3, 1, 3, 2, 3, 2, 2, 3, 2, 3, 3, 3, 1, 3,\n",
       "       3, 3, 3, 3, 2, 3, 3, 3, 3, 3, 3, 3, 3, 3, 2, 3, 1, 2, 2, 4, 1, 3,\n",
       "       2, 1, 3, 3, 3, 4, 3, 3, 4, 3, 2, 3, 3, 2, 4, 4, 1, 3, 3, 1, 3, 4,\n",
       "       3, 4, 3, 2, 3, 4, 3, 3, 2, 3, 1, 3, 4, 1, 3, 1, 4, 4, 1, 4, 3, 3,\n",
       "       3, 0, 2, 2, 4, 2, 4, 2, 1, 1, 0, 4, 0, 2, 0, 4, 4, 4, 2, 4, 0, 5,\n",
       "       2, 1, 1, 5, 0, 4, 5, 5, 5, 4, 5, 4, 1, 4, 5, 4, 4, 5, 2, 2, 4, 5,\n",
       "       5, 0, 4, 1, 4, 1, 0, 0, 4, 2, 4, 4, 0, 1, 4, 4, 5, 5, 1, 2, 4, 5,\n",
       "       2, 2, 3, 1, 3, 3, 1, 3, 2, 3, 3, 3, 3, 1, 2, 4, 3, 2, 3, 4, 4, 5,\n",
       "       5, 4, 0, 1, 5, 4, 5, 0, 2, 2, 5, 5, 4, 5, 4, 4, 1, 5, 2, 5, 1, 2,\n",
       "       0, 4, 0, 4, 5, 4, 4, 5, 0, 5, 0, 1, 4, 4, 2, 5, 5, 4, 5, 4, 2, 0,\n",
       "       0, 2, 2, 0, 2, 0, 0, 5, 5, 4, 0, 1, 4, 5, 5, 4, 2, 5, 5, 2, 1, 4,\n",
       "       2, 1, 4, 0, 2, 4, 2, 0, 4, 5, 0, 4, 1, 5, 0, 0, 5, 5, 5, 5, 0, 4,\n",
       "       2, 4, 5, 0, 1, 0, 1, 5, 5, 1, 4, 0, 4, 4, 5, 5, 0, 0, 0, 4, 4, 5,\n",
       "       1, 4, 0, 4, 5, 5, 5, 5, 5, 5, 2, 1, 5, 4, 0, 0, 4, 5, 5, 2, 4, 2,\n",
       "       2, 0, 5, 4, 5, 4, 5, 5, 5, 0, 5, 5, 5, 4, 5, 4, 5, 5, 4, 1, 0, 4,\n",
       "       1, 5, 1, 2, 2, 2, 0, 1, 5, 5, 5, 4, 5, 4, 1, 4, 0, 5, 1, 0, 0, 5,\n",
       "       4, 0, 1, 0, 4, 4, 5, 0, 4, 5, 4, 4, 0, 1, 5, 5, 4, 5, 2, 1, 5, 4,\n",
       "       0, 5, 0, 4, 4, 5, 5, 5, 4, 1, 1, 0, 2, 5, 2, 5, 0, 5, 0, 2, 2, 5,\n",
       "       0, 1, 5, 4, 4, 1, 0, 5, 5, 4, 2, 4, 5, 4, 5, 4, 4, 4, 5, 4, 5, 4,\n",
       "       0, 4, 5, 0, 0, 5, 5, 5, 2, 1, 0, 0, 1, 4, 0, 0, 5, 0, 0, 0, 4, 2,\n",
       "       0, 5, 5, 5, 5, 4, 0, 5, 1, 5, 2, 1, 4, 4, 0, 1])"
      ]
     },
     "execution_count": 53,
     "metadata": {},
     "output_type": "execute_result"
    }
   ],
   "source": [
    "kmeans = KMeans(n_clusters=6, random_state=0).fit(tsne)\n",
    "kmeans.labels_"
   ]
  },
  {
   "cell_type": "code",
   "execution_count": 54,
   "metadata": {},
   "outputs": [],
   "source": [
    "tsne_label = np.hstack((tsne, kmeans.labels_[:, np.newaxis]))"
   ]
  },
  {
   "cell_type": "code",
   "execution_count": 55,
   "metadata": {},
   "outputs": [
    {
     "data": {
      "text/plain": [
       "(500, 3)"
      ]
     },
     "execution_count": 55,
     "metadata": {},
     "output_type": "execute_result"
    }
   ],
   "source": [
    "tsne_label.shape"
   ]
  },
  {
   "cell_type": "code",
   "execution_count": 59,
   "metadata": {},
   "outputs": [
    {
     "data": {
      "image/png": "[encoded data removed]",
      "text/plain": [
       "<Figure size 1152x720 with 1 Axes>"
      ]
     },
     "metadata": {
      "needs_background": "light"
     },
     "output_type": "display_data"
    }
   ],
   "source": [
    "COLORS = ['tab:blue', 'tab:orange', 'tab:green', 'tab:red', 'tab:purple', 'tab:pink']\n",
    "\n",
    "plt.figure(figsize=(16,10))\n",
    "for i in range(6):\n",
    "    data = tsne_label[tsne_label[:, 2] == i]\n",
    "    plt.scatter(data[:, 0], data[:, 1], color=COLORS[i])"
   ]
  },
  {
   "cell_type": "code",
   "execution_count": 62,
   "metadata": {},
   "outputs": [
    {
     "data": {
      "text/plain": [
       "array([499], dtype=int32)"
      ]
     },
     "execution_count": 62,
     "metadata": {},
     "output_type": "execute_result"
    }
   ],
   "source": [
    "np.where(np.logical_and(tsne[:, 0] < -60, tsne[:, 1] > 28))[0]"
   ]
  },
  {
   "cell_type": "code",
   "execution_count": 63,
   "metadata": {},
   "outputs": [
    {
     "data": {
      "text/plain": [
       "array([-69.58624 ,  30.518631], dtype=float32)"
      ]
     },
     "execution_count": 63,
     "metadata": {},
     "output_type": "execute_result"
    }
   ],
   "source": [
    "tsne[499]"
   ]
  },
  {
   "cell_type": "code",
   "execution_count": 64,
   "metadata": {},
   "outputs": [
    {
     "data": {
      "text/plain": [
       "'RichQUACK.com'"
      ]
     },
     "execution_count": 64,
     "metadata": {},
     "output_type": "execute_result"
    }
   ],
   "source": [
    "index2name[499]"
   ]
  },
  {
   "cell_type": "markdown",
   "metadata": {},
   "source": [
    "write to json"
   ]
  },
  {
   "cell_type": "code",
   "execution_count": 75,
   "metadata": {},
   "outputs": [],
   "source": [
    "meta_cat = []\n",
    "for m, y in zip(meta, kmeans.labels_):\n",
    "    meta_cat.append({\n",
    "        'name': m.get('name'),\n",
    "        'symbol': m.get('symbol'),\n",
    "        'meta': int(y)\n",
    "    })"
   ]
  },
  {
   "cell_type": "code",
   "execution_count": 76,
   "metadata": {},
   "outputs": [
    {
     "data": {
      "text/plain": [
       "[{'name': 'Bitcoin', 'symbol': 'BTC', 'meta': 3},\n",
       " {'name': 'Ethereum', 'symbol': 'ETH', 'meta': 3},\n",
       " {'name': 'BNB', 'symbol': 'BNB', 'meta': 3},\n",
       " {'name': 'XRP', 'symbol': 'XRP', 'meta': 2},\n",
       " {'name': 'Cardano', 'symbol': 'ADA', 'meta': 2},\n",
       " {'name': 'Solana', 'symbol': 'SOL', 'meta': 3},\n",
       " {'name': 'Terra', 'symbol': 'LUNA', 'meta': 3},\n",
       " {'name': 'Avalanche', 'symbol': 'AVAX', 'meta': 3},\n",
       " {'name': 'Polkadot', 'symbol': 'DOT', 'meta': 3},\n",
       " {'name': 'Dogecoin', 'symbol': 'DOGE', 'meta': 2}]"
      ]
     },
     "execution_count": 76,
     "metadata": {},
     "output_type": "execute_result"
    }
   ],
   "source": [
    "meta_cat[:10]"
   ]
  },
  {
   "cell_type": "code",
   "execution_count": 79,
   "metadata": {},
   "outputs": [],
   "source": [
    "with open('./scraped/categories.json', 'w') as f:\n",
    "    json.dump(meta_cat, f, indent=4)"
   ]
  },
  {
   "cell_type": "code",
   "execution_count": null,
   "metadata": {},
   "outputs": [],
   "source": []
  }
 ],
 "metadata": {
  "kernelspec": {
   "display_name": "Python 3",
   "language": "python",
   "name": "python3"
  },
  "language_info": {
   "codemirror_mode": {
    "name": "ipython",
    "version": 3
   },
   "file_extension": ".py",
   "mimetype": "text/x-python",
   "name": "python",
   "nbconvert_exporter": "python",
   "pygments_lexer": "ipython3",
   "version": "3.8.5"
  }
 },
 "nbformat": 4,
 "nbformat_minor": 4
}
