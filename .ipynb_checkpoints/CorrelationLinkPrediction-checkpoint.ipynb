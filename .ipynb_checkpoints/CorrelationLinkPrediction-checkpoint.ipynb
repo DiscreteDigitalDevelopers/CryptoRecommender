{
 "cells": [
  {
   "cell_type": "markdown",
   "id": "aa54d0a7",
   "metadata": {},
   "source": [
    "# Correlation Link Prediction"
   ]
  },
  {
   "cell_type": "code",
   "execution_count": 39,
   "id": "2c2ddd1d",
   "metadata": {},
   "outputs": [],
   "source": [
    "import numpy as np\n",
    "import os\n",
    "import pandas as pd\n",
    "import talib\n",
    "\n",
    "from CryptoGraph import CryptoGraph"
   ]
  },
  {
   "cell_type": "markdown",
   "id": "9e986f3a",
   "metadata": {},
   "source": [
    "Create edgelist file"
   ]
  },
  {
   "cell_type": "code",
   "execution_count": 40,
   "id": "9650005d",
   "metadata": {},
   "outputs": [],
   "source": [
    "directory = './Kline/filter'\n",
    "header = 'datetime,open,high,low,close,volume,adj_close'.split(',')\n",
    "files = os.listdir(directory)\n",
    "data = {}\n",
    "for f in files:\n",
    "    name = f.split('.')[0]\n",
    "    reader = pd.read_csv(os.path.join(directory, f), names=header, skiprows=[0])\n",
    "    data[name] = reader"
   ]
  },
  {
   "cell_type": "code",
   "execution_count": 41,
   "id": "e2eea9c1",
   "metadata": {},
   "outputs": [
    {
     "data": {
      "text/html": [
       "<div>\n",
       "<style scoped>\n",
       "    .dataframe tbody tr th:only-of-type {\n",
       "        vertical-align: middle;\n",
       "    }\n",
       "\n",
       "    .dataframe tbody tr th {\n",
       "        vertical-align: top;\n",
       "    }\n",
       "\n",
       "    .dataframe thead th {\n",
       "        text-align: right;\n",
       "    }\n",
       "</style>\n",
       "<table border=\"1\" class=\"dataframe\">\n",
       "  <thead>\n",
       "    <tr style=\"text-align: right;\">\n",
       "      <th></th>\n",
       "      <th>datetime</th>\n",
       "      <th>open</th>\n",
       "      <th>high</th>\n",
       "      <th>low</th>\n",
       "      <th>close</th>\n",
       "      <th>volume</th>\n",
       "      <th>adj_close</th>\n",
       "    </tr>\n",
       "  </thead>\n",
       "  <tbody>\n",
       "    <tr>\n",
       "      <th>2021-01-01 00:00:00</th>\n",
       "      <td>1609459200000</td>\n",
       "      <td>0.18134</td>\n",
       "      <td>0.18473</td>\n",
       "      <td>0.17831</td>\n",
       "      <td>0.18292</td>\n",
       "      <td>8.357664e+07</td>\n",
       "      <td>0.18292</td>\n",
       "    </tr>\n",
       "    <tr>\n",
       "      <th>2021-01-01 04:00:00</th>\n",
       "      <td>1609473600000</td>\n",
       "      <td>0.18299</td>\n",
       "      <td>0.18367</td>\n",
       "      <td>0.17800</td>\n",
       "      <td>0.17955</td>\n",
       "      <td>6.272550e+07</td>\n",
       "      <td>0.17955</td>\n",
       "    </tr>\n",
       "    <tr>\n",
       "      <th>2021-01-01 08:00:00</th>\n",
       "      <td>1609488000000</td>\n",
       "      <td>0.17955</td>\n",
       "      <td>0.18078</td>\n",
       "      <td>0.17673</td>\n",
       "      <td>0.17950</td>\n",
       "      <td>5.596490e+07</td>\n",
       "      <td>0.17950</td>\n",
       "    </tr>\n",
       "    <tr>\n",
       "      <th>2021-01-01 12:00:00</th>\n",
       "      <td>1609502400000</td>\n",
       "      <td>0.17943</td>\n",
       "      <td>0.18359</td>\n",
       "      <td>0.17887</td>\n",
       "      <td>0.18055</td>\n",
       "      <td>8.793477e+07</td>\n",
       "      <td>0.18055</td>\n",
       "    </tr>\n",
       "    <tr>\n",
       "      <th>2021-01-01 16:00:00</th>\n",
       "      <td>1609516800000</td>\n",
       "      <td>0.18057</td>\n",
       "      <td>0.18128</td>\n",
       "      <td>0.17000</td>\n",
       "      <td>0.17432</td>\n",
       "      <td>1.288843e+08</td>\n",
       "      <td>0.17432</td>\n",
       "    </tr>\n",
       "    <tr>\n",
       "      <th>...</th>\n",
       "      <td>...</td>\n",
       "      <td>...</td>\n",
       "      <td>...</td>\n",
       "      <td>...</td>\n",
       "      <td>...</td>\n",
       "      <td>...</td>\n",
       "      <td>...</td>\n",
       "    </tr>\n",
       "    <tr>\n",
       "      <th>2021-06-15 20:00:00</th>\n",
       "      <td>1623787200000</td>\n",
       "      <td>1.55800</td>\n",
       "      <td>1.56730</td>\n",
       "      <td>1.54410</td>\n",
       "      <td>1.55520</td>\n",
       "      <td>2.240339e+07</td>\n",
       "      <td>1.55520</td>\n",
       "    </tr>\n",
       "    <tr>\n",
       "      <th>2021-06-16 00:00:00</th>\n",
       "      <td>1623801600000</td>\n",
       "      <td>1.55500</td>\n",
       "      <td>1.55530</td>\n",
       "      <td>1.52740</td>\n",
       "      <td>1.54520</td>\n",
       "      <td>2.267068e+07</td>\n",
       "      <td>1.54520</td>\n",
       "    </tr>\n",
       "    <tr>\n",
       "      <th>2021-06-16 04:00:00</th>\n",
       "      <td>1623816000000</td>\n",
       "      <td>1.54530</td>\n",
       "      <td>1.57540</td>\n",
       "      <td>1.54350</td>\n",
       "      <td>1.56200</td>\n",
       "      <td>2.153015e+07</td>\n",
       "      <td>1.56200</td>\n",
       "    </tr>\n",
       "    <tr>\n",
       "      <th>2021-06-16 08:00:00</th>\n",
       "      <td>1623830400000</td>\n",
       "      <td>1.56190</td>\n",
       "      <td>1.57400</td>\n",
       "      <td>1.51070</td>\n",
       "      <td>1.52070</td>\n",
       "      <td>3.261056e+07</td>\n",
       "      <td>1.52070</td>\n",
       "    </tr>\n",
       "    <tr>\n",
       "      <th>2021-06-16 12:00:00</th>\n",
       "      <td>1623844800000</td>\n",
       "      <td>1.52070</td>\n",
       "      <td>1.52770</td>\n",
       "      <td>1.49000</td>\n",
       "      <td>1.50420</td>\n",
       "      <td>4.137075e+07</td>\n",
       "      <td>1.50420</td>\n",
       "    </tr>\n",
       "  </tbody>\n",
       "</table>\n",
       "<p>1000 rows × 7 columns</p>\n",
       "</div>"
      ],
      "text/plain": [
       "                          datetime     open     high      low    close  \\\n",
       "2021-01-01 00:00:00  1609459200000  0.18134  0.18473  0.17831  0.18292   \n",
       "2021-01-01 04:00:00  1609473600000  0.18299  0.18367  0.17800  0.17955   \n",
       "2021-01-01 08:00:00  1609488000000  0.17955  0.18078  0.17673  0.17950   \n",
       "2021-01-01 12:00:00  1609502400000  0.17943  0.18359  0.17887  0.18055   \n",
       "2021-01-01 16:00:00  1609516800000  0.18057  0.18128  0.17000  0.17432   \n",
       "...                            ...      ...      ...      ...      ...   \n",
       "2021-06-15 20:00:00  1623787200000  1.55800  1.56730  1.54410  1.55520   \n",
       "2021-06-16 00:00:00  1623801600000  1.55500  1.55530  1.52740  1.54520   \n",
       "2021-06-16 04:00:00  1623816000000  1.54530  1.57540  1.54350  1.56200   \n",
       "2021-06-16 08:00:00  1623830400000  1.56190  1.57400  1.51070  1.52070   \n",
       "2021-06-16 12:00:00  1623844800000  1.52070  1.52770  1.49000  1.50420   \n",
       "\n",
       "                           volume  adj_close  \n",
       "2021-01-01 00:00:00  8.357664e+07    0.18292  \n",
       "2021-01-01 04:00:00  6.272550e+07    0.17955  \n",
       "2021-01-01 08:00:00  5.596490e+07    0.17950  \n",
       "2021-01-01 12:00:00  8.793477e+07    0.18055  \n",
       "2021-01-01 16:00:00  1.288843e+08    0.17432  \n",
       "...                           ...        ...  \n",
       "2021-06-15 20:00:00  2.240339e+07    1.55520  \n",
       "2021-06-16 00:00:00  2.267068e+07    1.54520  \n",
       "2021-06-16 04:00:00  2.153015e+07    1.56200  \n",
       "2021-06-16 08:00:00  3.261056e+07    1.52070  \n",
       "2021-06-16 12:00:00  4.137075e+07    1.50420  \n",
       "\n",
       "[1000 rows x 7 columns]"
      ]
     },
     "execution_count": 41,
     "metadata": {},
     "output_type": "execute_result"
    }
   ],
   "source": [
    "data['ADAUSDT']"
   ]
  },
  {
   "cell_type": "markdown",
   "id": "4ae3bf9f",
   "metadata": {},
   "source": [
    "Find correlation between each crypto pairs"
   ]
  },
  {
   "cell_type": "code",
   "execution_count": 67,
   "id": "a0860b71",
   "metadata": {},
   "outputs": [],
   "source": [
    "tp = 30\n",
    "edge_list = []\n",
    "\n",
    "for a in files:\n",
    "    for b in files:\n",
    "        if a == b:\n",
    "            continue\n",
    "        a_name = a.split('.')[0]\n",
    "        b_name = b.split('.')[0]\n",
    "        cor_close = talib.CORREL(data[a_name]['close'], data[b_name]['close'], timeperiod=tp)[tp:]\n",
    "        cor_vol = talib.CORREL(data[a_name]['volume'], data[b_name]['volume'], timeperiod=tp)[tp:]\n",
    "        for time, close, vol in zip(data[a_name]['datetime'][tp:], cor_close, cor_vol):\n",
    "            edge_list.append([a_name, b_name, time, close, vol])"
   ]
  },
  {
   "cell_type": "code",
   "execution_count": 69,
   "id": "9f260c47",
   "metadata": {},
   "outputs": [
    {
     "data": {
      "text/plain": [
       "[['XRPUSDT', 'SOLUSDT', 1623787200000, 0.8856144303692914, 0.6967135880991836],\n",
       " ['XRPUSDT', 'SOLUSDT', 1623801600000, 0.8917173294383888, 0.7169164785846667],\n",
       " ['XRPUSDT', 'SOLUSDT', 1623816000000, 0.8893107592831987, 0.7309922090461083],\n",
       " ['XRPUSDT', 'SOLUSDT', 1623830400000, 0.8807367576437983, 0.7090432172752021],\n",
       " ['XRPUSDT', 'SOLUSDT', 1623844800000, 0.8294500572115121, 0.7137671998124264]]"
      ]
     },
     "execution_count": 69,
     "metadata": {},
     "output_type": "execute_result"
    }
   ],
   "source": [
    "edge_list[-5:]"
   ]
  },
  {
   "cell_type": "code",
   "execution_count": 62,
   "id": "0ba8729c",
   "metadata": {},
   "outputs": [
    {
     "data": {
      "text/plain": [
       "54320"
      ]
     },
     "execution_count": 62,
     "metadata": {},
     "output_type": "execute_result"
    }
   ],
   "source": [
    "len(edge_list)"
   ]
  },
  {
   "cell_type": "markdown",
   "id": "d665c17b",
   "metadata": {},
   "source": [
    "write to edgelist"
   ]
  },
  {
   "cell_type": "code",
   "execution_count": null,
   "id": "35270251",
   "metadata": {},
   "outputs": [],
   "source": []
  },
  {
   "cell_type": "code",
   "execution_count": null,
   "id": "ba36bbc1",
   "metadata": {},
   "outputs": [],
   "source": []
  },
  {
   "cell_type": "code",
   "execution_count": null,
   "id": "d98fc989",
   "metadata": {},
   "outputs": [],
   "source": []
  },
  {
   "cell_type": "code",
   "execution_count": null,
   "id": "a2cc8689",
   "metadata": {},
   "outputs": [],
   "source": []
  },
  {
   "cell_type": "markdown",
   "id": "0199ee3c",
   "metadata": {},
   "source": [
    "Load attributes"
   ]
  },
  {
   "cell_type": "code",
   "execution_count": 2,
   "id": "58215a70",
   "metadata": {},
   "outputs": [],
   "source": [
    "g = CryptoGraph()\n",
    "g.init_from_price_hist(directory = 'Kline/filter')"
   ]
  },
  {
   "cell_type": "code",
   "execution_count": 3,
   "id": "7a40ed46",
   "metadata": {},
   "outputs": [
    {
     "ename": "TypeError",
     "evalue": "'NoneType' object is not subscriptable",
     "output_type": "error",
     "traceback": [
      "\u001b[1;31m---------------------------------------------------------------------------\u001b[0m",
      "\u001b[1;31mTypeError\u001b[0m                                 Traceback (most recent call last)",
      "\u001b[1;32m~\\anaconda3\\lib\\site-packages\\IPython\\core\\formatters.py\u001b[0m in \u001b[0;36m__call__\u001b[1;34m(self, obj)\u001b[0m\n\u001b[0;32m    700\u001b[0m                 \u001b[0mtype_pprinters\u001b[0m\u001b[1;33m=\u001b[0m\u001b[0mself\u001b[0m\u001b[1;33m.\u001b[0m\u001b[0mtype_printers\u001b[0m\u001b[1;33m,\u001b[0m\u001b[1;33m\u001b[0m\u001b[1;33m\u001b[0m\u001b[0m\n\u001b[0;32m    701\u001b[0m                 deferred_pprinters=self.deferred_printers)\n\u001b[1;32m--> 702\u001b[1;33m             \u001b[0mprinter\u001b[0m\u001b[1;33m.\u001b[0m\u001b[0mpretty\u001b[0m\u001b[1;33m(\u001b[0m\u001b[0mobj\u001b[0m\u001b[1;33m)\u001b[0m\u001b[1;33m\u001b[0m\u001b[1;33m\u001b[0m\u001b[0m\n\u001b[0m\u001b[0;32m    703\u001b[0m             \u001b[0mprinter\u001b[0m\u001b[1;33m.\u001b[0m\u001b[0mflush\u001b[0m\u001b[1;33m(\u001b[0m\u001b[1;33m)\u001b[0m\u001b[1;33m\u001b[0m\u001b[1;33m\u001b[0m\u001b[0m\n\u001b[0;32m    704\u001b[0m             \u001b[1;32mreturn\u001b[0m \u001b[0mstream\u001b[0m\u001b[1;33m.\u001b[0m\u001b[0mgetvalue\u001b[0m\u001b[1;33m(\u001b[0m\u001b[1;33m)\u001b[0m\u001b[1;33m\u001b[0m\u001b[1;33m\u001b[0m\u001b[0m\n",
      "\u001b[1;32m~\\anaconda3\\lib\\site-packages\\IPython\\lib\\pretty.py\u001b[0m in \u001b[0;36mpretty\u001b[1;34m(self, obj)\u001b[0m\n\u001b[0;32m    375\u001b[0m                 \u001b[1;32mif\u001b[0m \u001b[0mcls\u001b[0m \u001b[1;32min\u001b[0m \u001b[0mself\u001b[0m\u001b[1;33m.\u001b[0m\u001b[0mtype_pprinters\u001b[0m\u001b[1;33m:\u001b[0m\u001b[1;33m\u001b[0m\u001b[1;33m\u001b[0m\u001b[0m\n\u001b[0;32m    376\u001b[0m                     \u001b[1;31m# printer registered in self.type_pprinters\u001b[0m\u001b[1;33m\u001b[0m\u001b[1;33m\u001b[0m\u001b[0m\n\u001b[1;32m--> 377\u001b[1;33m                     \u001b[1;32mreturn\u001b[0m \u001b[0mself\u001b[0m\u001b[1;33m.\u001b[0m\u001b[0mtype_pprinters\u001b[0m\u001b[1;33m[\u001b[0m\u001b[0mcls\u001b[0m\u001b[1;33m]\u001b[0m\u001b[1;33m(\u001b[0m\u001b[0mobj\u001b[0m\u001b[1;33m,\u001b[0m \u001b[0mself\u001b[0m\u001b[1;33m,\u001b[0m \u001b[0mcycle\u001b[0m\u001b[1;33m)\u001b[0m\u001b[1;33m\u001b[0m\u001b[1;33m\u001b[0m\u001b[0m\n\u001b[0m\u001b[0;32m    378\u001b[0m                 \u001b[1;32melse\u001b[0m\u001b[1;33m:\u001b[0m\u001b[1;33m\u001b[0m\u001b[1;33m\u001b[0m\u001b[0m\n\u001b[0;32m    379\u001b[0m                     \u001b[1;31m# deferred printer\u001b[0m\u001b[1;33m\u001b[0m\u001b[1;33m\u001b[0m\u001b[0m\n",
      "\u001b[1;32m~\\anaconda3\\lib\\site-packages\\IPython\\lib\\pretty.py\u001b[0m in \u001b[0;36minner\u001b[1;34m(obj, p, cycle)\u001b[0m\n\u001b[0;32m    603\u001b[0m                 \u001b[0mp\u001b[0m\u001b[1;33m.\u001b[0m\u001b[0mtext\u001b[0m\u001b[1;33m(\u001b[0m\u001b[1;34m','\u001b[0m\u001b[1;33m)\u001b[0m\u001b[1;33m\u001b[0m\u001b[1;33m\u001b[0m\u001b[0m\n\u001b[0;32m    604\u001b[0m                 \u001b[0mp\u001b[0m\u001b[1;33m.\u001b[0m\u001b[0mbreakable\u001b[0m\u001b[1;33m(\u001b[0m\u001b[1;33m)\u001b[0m\u001b[1;33m\u001b[0m\u001b[1;33m\u001b[0m\u001b[0m\n\u001b[1;32m--> 605\u001b[1;33m             \u001b[0mp\u001b[0m\u001b[1;33m.\u001b[0m\u001b[0mpretty\u001b[0m\u001b[1;33m(\u001b[0m\u001b[0mkey\u001b[0m\u001b[1;33m)\u001b[0m\u001b[1;33m\u001b[0m\u001b[1;33m\u001b[0m\u001b[0m\n\u001b[0m\u001b[0;32m    606\u001b[0m             \u001b[0mp\u001b[0m\u001b[1;33m.\u001b[0m\u001b[0mtext\u001b[0m\u001b[1;33m(\u001b[0m\u001b[1;34m': '\u001b[0m\u001b[1;33m)\u001b[0m\u001b[1;33m\u001b[0m\u001b[1;33m\u001b[0m\u001b[0m\n\u001b[0;32m    607\u001b[0m             \u001b[0mp\u001b[0m\u001b[1;33m.\u001b[0m\u001b[0mpretty\u001b[0m\u001b[1;33m(\u001b[0m\u001b[0mobj\u001b[0m\u001b[1;33m[\u001b[0m\u001b[0mkey\u001b[0m\u001b[1;33m]\u001b[0m\u001b[1;33m)\u001b[0m\u001b[1;33m\u001b[0m\u001b[1;33m\u001b[0m\u001b[0m\n",
      "\u001b[1;32m~\\anaconda3\\lib\\site-packages\\IPython\\lib\\pretty.py\u001b[0m in \u001b[0;36mpretty\u001b[1;34m(self, obj)\u001b[0m\n\u001b[0;32m    392\u001b[0m                         \u001b[1;32mif\u001b[0m \u001b[0mcls\u001b[0m \u001b[1;32mis\u001b[0m \u001b[1;32mnot\u001b[0m \u001b[0mobject\u001b[0m\u001b[0;31m \u001b[0m\u001b[0;31m\\\u001b[0m\u001b[1;33m\u001b[0m\u001b[1;33m\u001b[0m\u001b[0m\n\u001b[0;32m    393\u001b[0m                                 \u001b[1;32mand\u001b[0m \u001b[0mcallable\u001b[0m\u001b[1;33m(\u001b[0m\u001b[0mcls\u001b[0m\u001b[1;33m.\u001b[0m\u001b[0m__dict__\u001b[0m\u001b[1;33m.\u001b[0m\u001b[0mget\u001b[0m\u001b[1;33m(\u001b[0m\u001b[1;34m'__repr__'\u001b[0m\u001b[1;33m)\u001b[0m\u001b[1;33m)\u001b[0m\u001b[1;33m:\u001b[0m\u001b[1;33m\u001b[0m\u001b[1;33m\u001b[0m\u001b[0m\n\u001b[1;32m--> 394\u001b[1;33m                             \u001b[1;32mreturn\u001b[0m \u001b[0m_repr_pprint\u001b[0m\u001b[1;33m(\u001b[0m\u001b[0mobj\u001b[0m\u001b[1;33m,\u001b[0m \u001b[0mself\u001b[0m\u001b[1;33m,\u001b[0m \u001b[0mcycle\u001b[0m\u001b[1;33m)\u001b[0m\u001b[1;33m\u001b[0m\u001b[1;33m\u001b[0m\u001b[0m\n\u001b[0m\u001b[0;32m    395\u001b[0m \u001b[1;33m\u001b[0m\u001b[0m\n\u001b[0;32m    396\u001b[0m             \u001b[1;32mreturn\u001b[0m \u001b[0m_default_pprint\u001b[0m\u001b[1;33m(\u001b[0m\u001b[0mobj\u001b[0m\u001b[1;33m,\u001b[0m \u001b[0mself\u001b[0m\u001b[1;33m,\u001b[0m \u001b[0mcycle\u001b[0m\u001b[1;33m)\u001b[0m\u001b[1;33m\u001b[0m\u001b[1;33m\u001b[0m\u001b[0m\n",
      "\u001b[1;32m~\\anaconda3\\lib\\site-packages\\IPython\\lib\\pretty.py\u001b[0m in \u001b[0;36m_repr_pprint\u001b[1;34m(obj, p, cycle)\u001b[0m\n\u001b[0;32m    698\u001b[0m     \u001b[1;34m\"\"\"A pprint that just redirects to the normal repr function.\"\"\"\u001b[0m\u001b[1;33m\u001b[0m\u001b[1;33m\u001b[0m\u001b[0m\n\u001b[0;32m    699\u001b[0m     \u001b[1;31m# Find newlines and replace them with p.break_()\u001b[0m\u001b[1;33m\u001b[0m\u001b[1;33m\u001b[0m\u001b[0m\n\u001b[1;32m--> 700\u001b[1;33m     \u001b[0moutput\u001b[0m \u001b[1;33m=\u001b[0m \u001b[0mrepr\u001b[0m\u001b[1;33m(\u001b[0m\u001b[0mobj\u001b[0m\u001b[1;33m)\u001b[0m\u001b[1;33m\u001b[0m\u001b[1;33m\u001b[0m\u001b[0m\n\u001b[0m\u001b[0;32m    701\u001b[0m     \u001b[0mlines\u001b[0m \u001b[1;33m=\u001b[0m \u001b[0moutput\u001b[0m\u001b[1;33m.\u001b[0m\u001b[0msplitlines\u001b[0m\u001b[1;33m(\u001b[0m\u001b[1;33m)\u001b[0m\u001b[1;33m\u001b[0m\u001b[1;33m\u001b[0m\u001b[0m\n\u001b[0;32m    702\u001b[0m     \u001b[1;32mwith\u001b[0m \u001b[0mp\u001b[0m\u001b[1;33m.\u001b[0m\u001b[0mgroup\u001b[0m\u001b[1;33m(\u001b[0m\u001b[1;33m)\u001b[0m\u001b[1;33m:\u001b[0m\u001b[1;33m\u001b[0m\u001b[1;33m\u001b[0m\u001b[0m\n",
      "\u001b[1;32m~\\Desktop\\projects\\CryptoRecommender\\Crypto.py\u001b[0m in \u001b[0;36m__repr__\u001b[1;34m(self)\u001b[0m\n\u001b[0;32m     19\u001b[0m \u001b[1;33m\u001b[0m\u001b[0m\n\u001b[0;32m     20\u001b[0m         \u001b[1;32mdef\u001b[0m \u001b[0m__repr__\u001b[0m\u001b[1;33m(\u001b[0m\u001b[0mself\u001b[0m\u001b[1;33m)\u001b[0m\u001b[1;33m:\u001b[0m\u001b[1;33m\u001b[0m\u001b[1;33m\u001b[0m\u001b[0m\n\u001b[1;32m---> 21\u001b[1;33m                 \u001b[1;32mreturn\u001b[0m \u001b[1;34mf'{self.ticker}: ${float(self.last_price[1]):.2f} at {self.from_unix(self.last_price[0])}'\u001b[0m\u001b[1;33m\u001b[0m\u001b[1;33m\u001b[0m\u001b[0m\n\u001b[0m\u001b[0;32m     22\u001b[0m \u001b[1;33m\u001b[0m\u001b[0m\n\u001b[0;32m     23\u001b[0m         \u001b[1;32mdef\u001b[0m \u001b[0mupdate_price\u001b[0m\u001b[1;33m(\u001b[0m\u001b[0mself\u001b[0m\u001b[1;33m,\u001b[0m \u001b[0mtimestamp\u001b[0m\u001b[1;33m,\u001b[0m \u001b[0mp\u001b[0m\u001b[1;33m)\u001b[0m\u001b[1;33m:\u001b[0m\u001b[1;33m\u001b[0m\u001b[1;33m\u001b[0m\u001b[0m\n",
      "\u001b[1;31mTypeError\u001b[0m: 'NoneType' object is not subscriptable"
     ]
    }
   ],
   "source": [
    "g.adj_list"
   ]
  },
  {
   "cell_type": "code",
   "execution_count": null,
   "id": "45c6a518",
   "metadata": {},
   "outputs": [],
   "source": []
  }
 ],
 "metadata": {
  "kernelspec": {
   "display_name": "Python 3 (ipykernel)",
   "language": "python",
   "name": "python3"
  },
  "language_info": {
   "codemirror_mode": {
    "name": "ipython",
    "version": 3
   },
   "file_extension": ".py",
   "mimetype": "text/x-python",
   "name": "python",
   "nbconvert_exporter": "python",
   "pygments_lexer": "ipython3",
   "version": "3.9.7"
  }
 },
 "nbformat": 4,
 "nbformat_minor": 5
}
