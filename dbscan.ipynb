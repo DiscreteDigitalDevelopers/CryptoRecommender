{
 "cells": [
  {
   "cell_type": "code",
   "execution_count": 1,
   "metadata": {},
   "outputs": [],
   "source": [
    "from sklearn.manifold import TSNE\n",
    "import seaborn as sns\n",
    "from matplotlib import pyplot as plt\n",
    "import seaborn as sns\n",
    "from matplotlib import pyplot as plt\n",
    "from sklearn.cluster import DBSCAN \n",
    "import csv\n",
    "import os\n",
    "import numpy as np\n",
    "import json\n",
    "from sklearn.manifold import TSNE"
   ]
  },
  {
   "cell_type": "code",
   "execution_count": 25,
   "metadata": {},
   "outputs": [
    {
     "name": "stdout",
     "output_type": "stream",
     "text": [
      "300\n",
      "300\n",
      "300\n",
      "300\n",
      "300\n",
      "300\n",
      "300\n",
      "300\n",
      "300\n",
      "300\n",
      "300\n",
      "300\n",
      "300\n",
      "300\n",
      "300\n",
      "300\n",
      "(16, 300, 4)\n"
     ]
    }
   ],
   "source": [
    "csv_list = os.listdir(\"Kline\")\n",
    "data = []\n",
    "for c in csv_list:\n",
    "    if(not \".csv\" in c): continue\n",
    "    with open(\"Kline/\" + c, 'r') as csvfile:\n",
    "        fields = []\n",
    "        rows = []\n",
    "        # creating a csv reader object\n",
    "        csvreader = csv.reader(csvfile)\n",
    "        # extracting field names through first row\n",
    "        fields = next(csvreader)\n",
    "\n",
    "        # extracting each data row one by one\n",
    "        for i, row in enumerate(csvreader):\n",
    "            if(i > 299): break\n",
    "            rows.append(row[2:6])\n",
    "    print(len(rows))\n",
    "    data.append(rows)\n",
    "data = np.array(data)\n",
    "print(data.shape)"
   ]
  },
  {
   "cell_type": "code",
   "execution_count": 2,
   "metadata": {},
   "outputs": [],
   "source": [
    "meta = None\n",
    "with open('./scraped/metadata.json') as f:\n",
    "    meta = json.load(f)"
   ]
  },
  {
   "cell_type": "code",
   "execution_count": 3,
   "metadata": {},
   "outputs": [],
   "source": [
    "index2name = []\n",
    "for m in meta:\n",
    "    index2name.append(m.get('name'))"
   ]
  },
  {
   "cell_type": "code",
   "execution_count": 6,
   "metadata": {},
   "outputs": [
    {
     "data": {
      "text/plain": [
       "['Bitcoin', 'Ethereum', 'BNB', 'XRP', 'Cardano']"
      ]
     },
     "execution_count": 6,
     "metadata": {},
     "output_type": "execute_result"
    }
   ],
   "source": [
    "index2name[:5]"
   ]
  },
  {
   "cell_type": "code",
   "execution_count": 4,
   "metadata": {},
   "outputs": [],
   "source": [
    "embed = []\n",
    "for m in meta:\n",
    "    feats = np.array([m.get('market_cap'), m.get('fully_diluted_market_cap'), m.get('circulating_supply'), m.get('total_supply')])\n",
    "    embed.append(feats)\n",
    "embed = np.array(embed)"
   ]
  },
  {
   "cell_type": "code",
   "execution_count": 8,
   "metadata": {},
   "outputs": [
    {
     "data": {
      "text/plain": [
       "array([[8.53156332e+11, 8.53156332e+11, 1.89955000e+07, 1.89955000e+07],\n",
       "       [3.82421302e+11, 3.82421302e+11, 1.20135312e+08, 1.20135312e+08],\n",
       "       [6.90548205e+10, 6.90548205e+10, 1.65116761e+08, 1.65116761e+08],\n",
       "       ...,\n",
       "       [6.32231262e+07, 6.32231262e+07, 5.95248695e+08, 6.55932996e+08],\n",
       "       [6.30349240e+07, 6.30349240e+07, 3.38541660e+07, 2.50000000e+08],\n",
       "       [6.25803319e+07, 6.25803319e+07, 4.40859613e+16, 4.67758553e+16]])"
      ]
     },
     "execution_count": 8,
     "metadata": {},
     "output_type": "execute_result"
    }
   ],
   "source": [
    "embed"
   ]
  },
  {
   "cell_type": "code",
   "execution_count": 10,
   "metadata": {},
   "outputs": [],
   "source": [
    "tsne = TSNE(n_components=2).fit_transform(embed)"
   ]
  },
  {
   "cell_type": "code",
   "execution_count": 11,
   "metadata": {},
   "outputs": [
    {
     "data": {
      "text/plain": [
       "<matplotlib.collections.PathCollection at 0x1f8d0fea400>"
      ]
     },
     "execution_count": 11,
     "metadata": {},
     "output_type": "execute_result"
    },
    {
     "data": {
      "image/png": "[encoded data removed]",
      "text/plain": [
       "<Figure size 576x360 with 1 Axes>"
      ]
     },
     "metadata": {
      "needs_background": "light"
     },
     "output_type": "display_data"
    }
   ],
   "source": [
    "df_subset = {}\n",
    "df_subset['x'] = tsne[:,0]\n",
    "df_subset['y'] = tsne[:,1]\n",
    "plt.figure(figsize=(8,5))\n",
    "plt.scatter(df_subset['x'], df_subset['y'])"
   ]
  },
  {
   "cell_type": "code",
   "execution_count": 26,
   "metadata": {},
   "outputs": [
    {
     "data": {
      "text/plain": [
       "array([ 0,  0,  0,  1,  1,  0,  0,  0,  0,  1,  1,  1,  2,  1,  0,  1,  1,\n",
       "        0,  0,  0,  0,  0,  0,  1,  0,  1,  0,  0,  1,  0,  1,  0,  1,  0,\n",
       "        0,  0,  0,  0,  0,  0,  0,  0,  0,  0,  0,  1,  0,  0,  0,  0,  0,\n",
       "        0,  0,  1,  0,  2,  0,  1,  1,  0,  1,  0,  0,  0,  1,  0,  0,  0,\n",
       "        0,  0,  1,  0,  0,  0,  0,  0,  0,  0,  0,  0,  1,  0,  3,  1,  1,\n",
       "        3,  1,  4,  1,  1,  4,  4,  4,  3,  4,  4,  3,  4,  1,  4,  4,  1,\n",
       "        3,  3,  1,  4,  4,  3,  4,  3,  4,  3,  4,  1,  4,  3,  4,  4,  1,\n",
       "        4,  3,  4,  3,  3,  4,  1,  3,  3,  3,  3,  4,  4,  4,  4,  1,  2,\n",
       "        3,  1,  3,  2,  3,  1,  4,  3,  4,  1,  4,  3,  3,  3,  1,  3,  4,\n",
       "        4,  1,  3,  1,  4,  4,  3,  4,  4,  4,  3,  4,  3,  1,  3,  4,  3,\n",
       "        3,  4,  1,  1,  3,  4,  4,  4,  3,  3,  3,  3,  4,  4,  3,  1,  3,\n",
       "        3,  4,  1,  3,  3,  4,  4,  1,  1,  3,  4,  1,  1,  0,  1,  0,  0,\n",
       "        3,  0,  1,  0,  0,  4,  4,  1,  1,  3,  4,  1,  4,  3,  3,  4,  4,\n",
       "        3,  4,  3,  4,  3,  4,  4,  2,  1,  4,  4,  3,  4,  3,  3,  1,  4,\n",
       "        1,  4,  3,  1,  4,  3,  4,  3,  4,  3,  3,  4,  4,  4,  4,  3,  3,\n",
       "        3,  1,  4,  4,  3,  4,  3,  1,  4,  4,  1,  1,  4,  1,  4,  4,  4,\n",
       "        4,  3,  4,  1,  3,  4,  4,  3,  1,  4,  4,  1,  1,  3,  1,  3,  3,\n",
       "        4,  1,  3,  1,  4,  3,  4,  4,  3,  1,  4,  4,  4,  4,  4,  4,  4,\n",
       "        4,  3,  1,  3,  4,  4,  3,  4,  1,  4,  4,  3,  3,  4,  3,  3,  4,\n",
       "        4,  4,  4,  4,  3,  3,  4,  3,  3,  4,  3,  4,  4,  4,  4,  4,  4,\n",
       "        1,  1,  4,  3,  4,  4,  3,  4,  4,  1,  3,  2,  1,  4,  4,  3,  4,\n",
       "        3,  4,  4,  4,  4,  4,  4,  4,  3,  4,  3,  4,  4,  3,  3,  4,  3,\n",
       "        3,  4,  3,  1,  1,  1,  4,  1,  4,  4,  4,  3,  4,  3,  3,  3,  4,\n",
       "        4,  1,  4,  4,  4,  3,  4,  3,  4,  3,  3,  4,  4,  3,  4,  3,  3,\n",
       "        4,  1,  4,  4,  3,  4,  1,  3,  4,  3,  4,  4,  4,  3,  3,  4,  4,\n",
       "        4,  3,  1,  1,  4,  1,  4,  1,  4,  4,  4,  4,  1,  1,  4,  4,  1,\n",
       "        4,  3,  3,  3,  4,  4,  4,  3,  1,  3,  4,  3,  4,  3,  3,  3,  4,\n",
       "        3,  4,  3,  4,  3,  4,  4,  4,  4,  4,  4,  1,  1,  4,  4,  1,  3,\n",
       "        4,  4,  4,  4,  4,  4,  3,  1,  4,  4,  4,  4,  4,  3,  4,  4,  1,\n",
       "        4,  1,  1,  3,  3,  4, -1], dtype=int64)"
      ]
     },
     "execution_count": 26,
     "metadata": {},
     "output_type": "execute_result"
    }
   ],
   "source": [
    "dbscan = DBSCAN(eps=3, min_samples=2).fit(tsne)\n",
    "dbscan.labels_"
   ]
  },
  {
   "cell_type": "code",
   "execution_count": 27,
   "metadata": {},
   "outputs": [],
   "source": [
    "tsne_label = np.hstack((tsne, dbscan.labels_[:, np.newaxis]))"
   ]
  },
  {
   "cell_type": "code",
   "execution_count": 29,
   "metadata": {},
   "outputs": [
    {
     "data": {
      "image/png": "[encoded data removed]",
      "text/plain": [
       "<Figure size 1152x720 with 1 Axes>"
      ]
     },
     "metadata": {
      "needs_background": "light"
     },
     "output_type": "display_data"
    }
   ],
   "source": [
    "COLORS = ['tab:blue', 'tab:orange', 'tab:green', 'tab:red', 'tab:purple', 'tab:pink']\n",
    "\n",
    "plt.figure(figsize=(16,10))\n",
    "for i in range(6):\n",
    "    data = tsne_label[tsne_label[:, 2] == i]\n",
    "    plt.scatter(data[:, 0], data[:, 1], color=COLORS[i])\n",
    "plt.savefig(\"dbscan.jpg\", dpi=500)"
   ]
  },
  {
   "cell_type": "code",
   "execution_count": null,
   "metadata": {},
   "outputs": [],
   "source": []
  }
 ],
 "metadata": {
  "interpreter": {
   "hash": "c788f194a8dbf5562e4840f2c870f984b853315244ea6daf65a3e4344976d39c"
  },
  "kernelspec": {
   "display_name": "Python 3.9.7 ('base')",
   "language": "python",
   "name": "python3"
  },
  "language_info": {
   "codemirror_mode": {
    "name": "ipython",
    "version": 3
   },
   "file_extension": ".py",
   "mimetype": "text/x-python",
   "name": "python",
   "nbconvert_exporter": "python",
   "pygments_lexer": "ipython3",
   "version": "3.9.7"
  },
  "orig_nbformat": 4
 },
 "nbformat": 4,
 "nbformat_minor": 2
}
